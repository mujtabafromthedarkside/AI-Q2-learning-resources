{
 "cells": [
  {
   "cell_type": "markdown",
   "metadata": {},
   "source": [
    "# Difficulty Level : Beginner"
   ]
  },
  {
   "cell_type": "code",
   "execution_count": 21,
   "metadata": {},
   "outputs": [],
   "source": [
    "#Import the numpy package under the name np\n",
    "import numpy as np\n"
   ]
  },
  {
   "cell_type": "code",
   "execution_count": 22,
   "metadata": {},
   "outputs": [
    {
     "name": "stdout",
     "output_type": "stream",
     "text": [
      "[0. 0. 0. 0. 0. 0. 0. 0. 0. 0.]\n"
     ]
    }
   ],
   "source": [
    "#Create a null vector of size 10\n",
    "\n",
    "my_null_vector = np.zeros(10)\n",
    "print(my_null_vector)"
   ]
  },
  {
   "cell_type": "code",
   "execution_count": 23,
   "metadata": {},
   "outputs": [],
   "source": [
    "#Create a vector with values ranging from 10 to 49\n",
    "\n",
    "my_vector = np.arange(10,49)"
   ]
  },
  {
   "cell_type": "code",
   "execution_count": 24,
   "metadata": {},
   "outputs": [
    {
     "name": "stdout",
     "output_type": "stream",
     "text": [
      "[10 11 12 13 14 15 16 17 18 19 20 21 22 23 24 25 26 27 28 29 30 31 32 33\n",
      " 34 35 36 37 38 39 40 41 42 43 44 45 46 47 48]\n"
     ]
    }
   ],
   "source": [
    "print(my_vector)"
   ]
  },
  {
   "cell_type": "code",
   "execution_count": 25,
   "metadata": {},
   "outputs": [
    {
     "name": "stdout",
     "output_type": "stream",
     "text": [
      "[10.  16.5 23.  29.5 36.  42.5 49. ]\n"
     ]
    }
   ],
   "source": [
    "my_vector2 = np.linspace(10,49,7)\n",
    "print(my_vector2)"
   ]
  },
  {
   "cell_type": "code",
   "execution_count": 27,
   "metadata": {},
   "outputs": [
    {
     "name": "stdout",
     "output_type": "stream",
     "text": [
      "(39,) = my_vector shape\n",
      "(7,) = my_vector 2 shape\n"
     ]
    }
   ],
   "source": [
    "#Find the shape of previous array in question 3\n",
    "\n",
    "print(my_vector.shape, \"my_vector shape\", sep = ' = ')\n",
    "print(my_vector2.shape, \"my_vector 2 shape\", sep = ' = ')"
   ]
  },
  {
   "cell_type": "code",
   "execution_count": 28,
   "metadata": {},
   "outputs": [
    {
     "name": "stdout",
     "output_type": "stream",
     "text": [
      "int32 = my_vector type\n",
      "float64 = my_vector 2 type\n"
     ]
    }
   ],
   "source": [
    "#Print the type of the previous array in question 3\n",
    "\n",
    "print(my_vector.dtype, \"my_vector type\", sep = ' = ')\n",
    "print(my_vector2.dtype, \"my_vector 2 type\", sep = ' = ')"
   ]
  },
  {
   "cell_type": "code",
   "execution_count": 29,
   "metadata": {},
   "outputs": [
    {
     "name": "stdout",
     "output_type": "stream",
     "text": [
      "1.19.4\n"
     ]
    }
   ],
   "source": [
    "#Print the numpy version and the configuration\n",
    "\n",
    "print(np.version.version)\n",
    "# no idea how to do configuration, online i found\n",
    "#  that we can use \"_version_\" and \"_config_\" attributes to \n",
    "#  find these out but it gives me AttributeError.\n"
   ]
  },
  {
   "cell_type": "code",
   "execution_count": 30,
   "metadata": {},
   "outputs": [
    {
     "name": "stdout",
     "output_type": "stream",
     "text": [
      "1.19.4\n"
     ]
    }
   ],
   "source": [
    "print(np.__version__)"
   ]
  },
  {
   "cell_type": "code",
   "execution_count": 31,
   "metadata": {},
   "outputs": [
    {
     "name": "stdout",
     "output_type": "stream",
     "text": [
      "blas_mkl_info:\n",
      "  NOT AVAILABLE\n",
      "blis_info:\n",
      "  NOT AVAILABLE\n",
      "openblas_info:\n",
      "    library_dirs = ['D:\\\\a\\\\1\\\\s\\\\numpy\\\\build\\\\openblas_info']\n",
      "    libraries = ['openblas_info']\n",
      "    language = f77\n",
      "    define_macros = [('HAVE_CBLAS', None)]\n",
      "blas_opt_info:\n",
      "    library_dirs = ['D:\\\\a\\\\1\\\\s\\\\numpy\\\\build\\\\openblas_info']\n",
      "    libraries = ['openblas_info']\n",
      "    language = f77\n",
      "    define_macros = [('HAVE_CBLAS', None)]\n",
      "lapack_mkl_info:\n",
      "  NOT AVAILABLE\n",
      "openblas_lapack_info:\n",
      "    library_dirs = ['D:\\\\a\\\\1\\\\s\\\\numpy\\\\build\\\\openblas_lapack_info']\n",
      "    libraries = ['openblas_lapack_info']\n",
      "    language = f77\n",
      "    define_macros = [('HAVE_CBLAS', None)]\n",
      "lapack_opt_info:\n",
      "    library_dirs = ['D:\\\\a\\\\1\\\\s\\\\numpy\\\\build\\\\openblas_lapack_info']\n",
      "    libraries = ['openblas_lapack_info']\n",
      "    language = f77\n",
      "    define_macros = [('HAVE_CBLAS', None)]\n",
      "None\n"
     ]
    }
   ],
   "source": [
    "print(np.show_config())"
   ]
  },
  {
   "cell_type": "code",
   "execution_count": 32,
   "metadata": {},
   "outputs": [
    {
     "data": {
      "text/plain": [
       "1"
      ]
     },
     "execution_count": 32,
     "metadata": {},
     "output_type": "execute_result"
    }
   ],
   "source": [
    "#Print the dimension of the array in question 3\n",
    "\n",
    "\n",
    "my_vector.ndim"
   ]
  },
  {
   "cell_type": "code",
   "execution_count": 33,
   "metadata": {},
   "outputs": [
    {
     "data": {
      "text/plain": [
       "array([[ True,  True,  True,  True],\n",
       "       [ True,  True,  True,  True],\n",
       "       [ True,  True,  True,  True]])"
      ]
     },
     "execution_count": 33,
     "metadata": {},
     "output_type": "execute_result"
    }
   ],
   "source": [
    "#Create a boolean array with all the True values\n",
    "\n",
    "\n",
    "my_list = [ [1,1,1,1], [1,1,1,1] , [1,1,1,1]]\n",
    "my_boolean_array = np.array(my_list,dtype=bool)\n",
    "my_boolean_array"
   ]
  },
  {
   "cell_type": "code",
   "execution_count": 34,
   "metadata": {},
   "outputs": [
    {
     "data": {
      "text/plain": [
       "array([[1, 3, 5, 7]])"
      ]
     },
     "execution_count": 34,
     "metadata": {},
     "output_type": "execute_result"
    }
   ],
   "source": [
    "#Create a two dimensional array\n",
    "\n",
    "my_2D_array = np.array([1,3,5,7],ndmin=2)\n",
    "my_2D_array"
   ]
  },
  {
   "cell_type": "code",
   "execution_count": 35,
   "metadata": {},
   "outputs": [
    {
     "data": {
      "text/plain": [
       "array([[[1, 3, 5, 7]]])"
      ]
     },
     "execution_count": 35,
     "metadata": {},
     "output_type": "execute_result"
    }
   ],
   "source": [
    "#Create a three dimensional array\n",
    "\n",
    "my_3D_array = np.array([1,3,5,7],ndmin=3)\n",
    "my_3D_array"
   ]
  },
  {
   "cell_type": "markdown",
   "metadata": {},
   "source": [
    "# Difficulty Level : Easy"
   ]
  },
  {
   "cell_type": "code",
   "execution_count": 36,
   "metadata": {},
   "outputs": [
    {
     "name": "stdout",
     "output_type": "stream",
     "text": [
      "[1 2 3 4 5 6 7 8 9]  :  [9 8 7 6 5 4 3 2 1]\n",
      "\n",
      "\n",
      "vector = \n",
      " [[1 2 3]\n",
      " [4 5 6]\n",
      " [7 8 9]]\n",
      "reverse = \n",
      " [[9 8 7]\n",
      " [6 5 4]\n",
      " [3 2 1]]\n"
     ]
    }
   ],
   "source": [
    "#Reverse a vector (first element becomes last)\n",
    "my_vect = np.arange(1,10)\n",
    "\n",
    "print(my_vect, \":\" , np.flip(my_vect), sep = '  ')\n",
    "\n",
    "print(\"\\n\")\n",
    "\n",
    "my_vect2 = my_vect.reshape((3,3))\n",
    "print( \"vector = \\n\" , my_vect2  )\n",
    "print( \"reverse = \\n\", np.flip(my_vect2))"
   ]
  },
  {
   "cell_type": "code",
   "execution_count": 37,
   "metadata": {},
   "outputs": [
    {
     "data": {
      "text/plain": [
       "array([0., 0., 0., 0., 1., 0., 0., 0., 0., 0.])"
      ]
     },
     "execution_count": 37,
     "metadata": {},
     "output_type": "execute_result"
    }
   ],
   "source": [
    "#Create a null vector of size 10 but the fifth value which is 1\n",
    "my_null = np.zeros(10)\n",
    "my_null[4] = 1 \n",
    "my_null"
   ]
  },
  {
   "cell_type": "code",
   "execution_count": 101,
   "metadata": {},
   "outputs": [
    {
     "data": {
      "text/plain": [
       "array([[1., 0., 0.],\n",
       "       [0., 1., 0.],\n",
       "       [0., 0., 1.]])"
      ]
     },
     "execution_count": 101,
     "metadata": {},
     "output_type": "execute_result"
    }
   ],
   "source": [
    "#Create a 3x3 identity matrix\n",
    "my_id = np.identity(3)\n",
    "my_id"
   ]
  },
  {
   "cell_type": "code",
   "execution_count": 105,
   "metadata": {},
   "outputs": [
    {
     "data": {
      "text/plain": [
       "dtype('int32')"
      ]
     },
     "execution_count": 105,
     "metadata": {},
     "output_type": "execute_result"
    }
   ],
   "source": [
    "#Convert the data type of the given array from int to float\n",
    "arr = np.array([1,2,3,4,5]) \n",
    "arr.dtype"
   ]
  },
  {
   "cell_type": "code",
   "execution_count": 40,
   "metadata": {},
   "outputs": [
    {
     "data": {
      "text/plain": [
       "dtype('float64')"
      ]
     },
     "execution_count": 40,
     "metadata": {},
     "output_type": "execute_result"
    }
   ],
   "source": [
    "arr = np.array(arr,dtype='float64')\n",
    "arr.dtype"
   ]
  },
  {
   "cell_type": "code",
   "execution_count": 43,
   "metadata": {},
   "outputs": [
    {
     "data": {
      "text/plain": [
       "array([[ 0.,  8.,  3.],\n",
       "       [28., 10., 72.]])"
      ]
     },
     "execution_count": 43,
     "metadata": {},
     "output_type": "execute_result"
    }
   ],
   "source": [
    "#Multiply arr1 with arr2\n",
    "arr1 = np.array([[1., 2., 3.],\n",
    "\n",
    "            [4., 5., 6.]]) \n",
    "\n",
    "arr2 = np.array([[0., 4., 1.],\n",
    "\n",
    "            [7., 2., 12.]])\n",
    "\n",
    "arr1 * arr2"
   ]
  },
  {
   "cell_type": "code",
   "execution_count": 44,
   "metadata": {},
   "outputs": [
    {
     "data": {
      "text/plain": [
       "array([[ True, False,  True],\n",
       "       [False,  True, False]])"
      ]
     },
     "execution_count": 44,
     "metadata": {},
     "output_type": "execute_result"
    }
   ],
   "source": [
    "#Make an array by comparing both the arrays provided above\n",
    "arr1>arr2"
   ]
  },
  {
   "cell_type": "code",
   "execution_count": 97,
   "metadata": {},
   "outputs": [
    {
     "data": {
      "text/plain": [
       "array([0, 1, 2, 3, 4, 5, 6, 7, 8, 9])"
      ]
     },
     "execution_count": 97,
     "metadata": {},
     "output_type": "execute_result"
    }
   ],
   "source": [
    "#Extract all odd numbers from arr with values(0-9)\n",
    "arr = np.arange(0,10)\n",
    "arr"
   ]
  },
  {
   "cell_type": "code",
   "execution_count": 99,
   "metadata": {},
   "outputs": [
    {
     "data": {
      "text/plain": [
       "array([1, 3, 5, 7, 9])"
      ]
     },
     "execution_count": 99,
     "metadata": {},
     "output_type": "execute_result"
    }
   ],
   "source": [
    "arr[1::2]"
   ]
  },
  {
   "cell_type": "code",
   "execution_count": 100,
   "metadata": {},
   "outputs": [
    {
     "data": {
      "text/plain": [
       "array([ 0, -1,  2, -1,  4, -1,  6, -1,  8, -1])"
      ]
     },
     "execution_count": 100,
     "metadata": {},
     "output_type": "execute_result"
    }
   ],
   "source": [
    "#Replace all odd numbers to -1 from previous array\n",
    "arr[1::2] = -1\n",
    "arr"
   ]
  },
  {
   "cell_type": "code",
   "execution_count": 52,
   "metadata": {},
   "outputs": [
    {
     "data": {
      "text/plain": [
       "array([ 0,  1,  2,  3,  4, 12, 12, 12, 12,  9])"
      ]
     },
     "execution_count": 52,
     "metadata": {},
     "output_type": "execute_result"
    }
   ],
   "source": [
    "#Replace the values of indexes 5,6,7 and 8 to 12\n",
    "arr[5:9] = 12 \n",
    "arr"
   ]
  },
  {
   "cell_type": "code",
   "execution_count": 94,
   "metadata": {},
   "outputs": [
    {
     "data": {
      "text/plain": [
       "array([[0., 0., 0., 0., 0.],\n",
       "       [0., 0., 0., 0., 0.],\n",
       "       [0., 0., 0., 0., 0.],\n",
       "       [0., 0., 0., 0., 0.],\n",
       "       [0., 0., 0., 0., 0.]])"
      ]
     },
     "execution_count": 94,
     "metadata": {},
     "output_type": "execute_result"
    }
   ],
   "source": [
    "#Create a 2d array with 1 on the border and 0 inside\n",
    "array = np.zeros((5,5))\n",
    "array"
   ]
  },
  {
   "cell_type": "code",
   "execution_count": 95,
   "metadata": {},
   "outputs": [
    {
     "data": {
      "text/plain": [
       "array([[1., 1., 1., 1., 1.],\n",
       "       [1., 0., 0., 0., 1.],\n",
       "       [1., 0., 0., 0., 1.],\n",
       "       [1., 0., 0., 0., 1.],\n",
       "       [1., 1., 1., 1., 1.]])"
      ]
     },
     "execution_count": 95,
     "metadata": {},
     "output_type": "execute_result"
    }
   ],
   "source": [
    "array[::4] = 1\n",
    "array[::,::4] = 1\n",
    "array"
   ]
  },
  {
   "cell_type": "markdown",
   "metadata": {},
   "source": [
    "# Difficulty : Medium\n"
   ]
  },
  {
   "cell_type": "code",
   "execution_count": 107,
   "metadata": {},
   "outputs": [
    {
     "data": {
      "text/plain": [
       "array([[ 1,  2,  3],\n",
       "       [ 4, 12,  6],\n",
       "       [ 7,  8,  9]])"
      ]
     },
     "execution_count": 107,
     "metadata": {},
     "output_type": "execute_result"
    }
   ],
   "source": [
    "#Replace the value 5 to 12\n",
    "arr2d = np.array([[1, 2, 3],\n",
    "\n",
    "            [4, 5, 6], \n",
    "\n",
    "            [7, 8, 9]])\n",
    "arr2d[(1,1)] = 12\n",
    "arr2d"
   ]
  },
  {
   "cell_type": "code",
   "execution_count": 108,
   "metadata": {},
   "outputs": [
    {
     "data": {
      "text/plain": [
       "array([[64, 64, 64],\n",
       "       [64, 64, 64],\n",
       "       [64, 64, 64]])"
      ]
     },
     "execution_count": 108,
     "metadata": {},
     "output_type": "execute_result"
    }
   ],
   "source": [
    "#Convert all the values of 1st array to 64\n",
    "arr2d[::,::] = 64\n",
    "arr2d"
   ]
  },
  {
   "cell_type": "code",
   "execution_count": 58,
   "metadata": {},
   "outputs": [
    {
     "data": {
      "text/plain": [
       "array([[3, 8, 8],\n",
       "       [5, 0, 4],\n",
       "       [2, 8, 0]])"
      ]
     },
     "execution_count": 58,
     "metadata": {},
     "output_type": "execute_result"
    }
   ],
   "source": [
    "#Make a 2-Dimensional array with values 0-9 and slice out the first 1st 1-D array from it\n",
    "twoDarray0 = np.random.randint(0,9, (3,3))\n",
    "twoDarray0"
   ]
  },
  {
   "cell_type": "code",
   "execution_count": 109,
   "metadata": {},
   "outputs": [
    {
     "data": {
      "text/plain": [
       "array([3, 8, 8])"
      ]
     },
     "execution_count": 109,
     "metadata": {},
     "output_type": "execute_result"
    }
   ],
   "source": [
    "twoDarray0[0]"
   ]
  },
  {
   "cell_type": "code",
   "execution_count": 60,
   "metadata": {},
   "outputs": [],
   "source": [
    "#Make a 2-Dimensional array with values 0-9 and slice out the 2nd value from 2nd 1-D array from it\n",
    "twoDarray = np.random.randint(0,9, (3,3))\n"
   ]
  },
  {
   "cell_type": "code",
   "execution_count": 61,
   "metadata": {},
   "outputs": [
    {
     "data": {
      "text/plain": [
       "array([[0, 1, 6],\n",
       "       [7, 0, 6],\n",
       "       [0, 8, 5]])"
      ]
     },
     "execution_count": 61,
     "metadata": {},
     "output_type": "execute_result"
    }
   ],
   "source": [
    "twoDarray"
   ]
  },
  {
   "cell_type": "code",
   "execution_count": 62,
   "metadata": {},
   "outputs": [
    {
     "data": {
      "text/plain": [
       "0"
      ]
     },
     "execution_count": 62,
     "metadata": {},
     "output_type": "execute_result"
    }
   ],
   "source": [
    "twoDarray[1,1]"
   ]
  },
  {
   "cell_type": "code",
   "execution_count": 63,
   "metadata": {},
   "outputs": [
    {
     "data": {
      "text/plain": [
       "array([[5, 8, 5],\n",
       "       [3, 8, 1],\n",
       "       [3, 6, 8]])"
      ]
     },
     "execution_count": 63,
     "metadata": {},
     "output_type": "execute_result"
    }
   ],
   "source": [
    "#Make a 2-Dimensional array with values 0-9 and slice out the third column but only the first two rows\n",
    "twoDarray2 = np.random.randint(0,9, (3,3))\n",
    "\n",
    "twoDarray2"
   ]
  },
  {
   "cell_type": "code",
   "execution_count": 110,
   "metadata": {},
   "outputs": [
    {
     "data": {
      "text/plain": [
       "array([5, 1])"
      ]
     },
     "execution_count": 110,
     "metadata": {},
     "output_type": "execute_result"
    }
   ],
   "source": [
    "twoDarray2[0:2,2]"
   ]
  },
  {
   "cell_type": "code",
   "execution_count": 112,
   "metadata": {},
   "outputs": [
    {
     "name": "stdout",
     "output_type": "stream",
     "text": [
      "min =  -98\n",
      "max =  99\n"
     ]
    }
   ],
   "source": [
    "#Create a 10x10 array with random values and find the minimum and maximum values\n",
    "\n",
    "random_array = np.random.randint(-100,100, (10,10))\n",
    "min = random_array.min()\n",
    "max = random_array.max()\n",
    "\n",
    "print('min = ', min )\n",
    "print('max = ', max )"
   ]
  },
  {
   "cell_type": "code",
   "execution_count": 114,
   "metadata": {},
   "outputs": [
    {
     "data": {
      "text/plain": [
       "array([2, 2, 4, 4])"
      ]
     },
     "execution_count": 114,
     "metadata": {},
     "output_type": "execute_result"
    }
   ],
   "source": [
    "#Find the common items between a and b\n",
    "\n",
    "a = np.array([1,2,3,2,3,4,3,4,5,6]) \n",
    "b = np.array([7,2,10,2,7,4,9,4,9,8])\n",
    "a[a==b]"
   ]
  },
  {
   "cell_type": "code",
   "execution_count": 118,
   "metadata": {},
   "outputs": [
    {
     "data": {
      "text/plain": [
       "(array([1, 3, 5, 7], dtype=int64),)"
      ]
     },
     "execution_count": 118,
     "metadata": {},
     "output_type": "execute_result"
    }
   ],
   "source": [
    "#Find the positions where elements of a and b match\n",
    "np.where(a==b)"
   ]
  },
  {
   "cell_type": "code",
   "execution_count": 170,
   "metadata": {},
   "outputs": [],
   "source": [
    "#Find all the values from array data where the values from array names are not equal to Will\n",
    "\n",
    "names = np.array(['Bob', 'Joe', 'Will', 'Bob', 'Will', 'Joe', 'Joe']) \n",
    "data = np.random.randn(7, 4)"
   ]
  },
  {
   "cell_type": "code",
   "execution_count": 73,
   "metadata": {},
   "outputs": [
    {
     "name": "stdout",
     "output_type": "stream",
     "text": [
      "(array([0, 1, 3, 5, 6], dtype=int64),)\n"
     ]
    },
    {
     "data": {
      "text/plain": [
       "array([[ 0.98308585,  0.90540172,  0.86536911,  0.48450493],\n",
       "       [ 1.27932097,  0.40290221, -0.20098742, -0.06128922],\n",
       "       [ 1.05391093, -1.66610668,  2.78035417,  0.69637345],\n",
       "       [ 0.6445215 , -1.52479523,  0.11949437, -0.49053238],\n",
       "       [ 0.91614461,  0.74383662, -0.67519227,  0.58655204]])"
      ]
     },
     "execution_count": 73,
     "metadata": {},
     "output_type": "execute_result"
    }
   ],
   "source": [
    "ans = np.where(names != 'Will')\n",
    "print(ans)\n",
    "data[ans]"
   ]
  },
  {
   "cell_type": "code",
   "execution_count": 179,
   "metadata": {},
   "outputs": [
    {
     "name": "stdout",
     "output_type": "stream",
     "text": [
      "[0 3]\n"
     ]
    },
    {
     "data": {
      "text/plain": [
       "array([[-0.11560528,  0.9829581 , -0.05898578, -1.84626928],\n",
       "       [ 0.34680357, -0.29888519, -0.50313389,  1.32030237]])"
      ]
     },
     "execution_count": 179,
     "metadata": {},
     "output_type": "execute_result"
    }
   ],
   "source": [
    "#Find all the values from array data where the values from array names are not equal to Will and Joe\n",
    "\n",
    "#01:\n",
    "names = np.array(['Bob', 'Joe', 'Will', 'Bob', 'Will', 'Joe', 'Joe']) \n",
    "data = np.random.randn(7, 4)\n",
    "\n",
    "ans2a = np.where(names != 'Will')\n",
    "ans2b = np.where(names != 'Joe')\n",
    "ans2 = np.intersect1d(ans2a, ans2b)\n",
    "print(ans2)\n",
    "data[ans2]"
   ]
  },
  {
   "cell_type": "code",
   "execution_count": 180,
   "metadata": {},
   "outputs": [
    {
     "data": {
      "text/plain": [
       "array([[-0.11560528,  0.9829581 , -0.05898578, -1.84626928],\n",
       "       [ 0.34680357, -0.29888519, -0.50313389,  1.32030237]])"
      ]
     },
     "execution_count": 180,
     "metadata": {},
     "output_type": "execute_result"
    }
   ],
   "source": [
    "#02:\n",
    "ans3 = (names != 'Will') & (names != 'Joe')\n",
    "data[ans3]"
   ]
  },
  {
   "cell_type": "code",
   "execution_count": 182,
   "metadata": {},
   "outputs": [
    {
     "name": "stdout",
     "output_type": "stream",
     "text": [
      "['Bob' '2' '2' 'Bob' '2' '2' '2']\n"
     ]
    },
    {
     "data": {
      "text/plain": [
       "array([[-0.11560528,  0.9829581 , -0.05898578, -1.84626928],\n",
       "       [ 0.34680357, -0.29888519, -0.50313389,  1.32030237]])"
      ]
     },
     "execution_count": 182,
     "metadata": {},
     "output_type": "execute_result"
    }
   ],
   "source": [
    "#03:\n",
    "a = names=='Will'\n",
    "b = names=='Joe'\n",
    "\n",
    "names[a] = 2\n",
    "names[b] = 2\n",
    "print(names)\n",
    "\n",
    "data[names!='2']"
   ]
  },
  {
   "cell_type": "markdown",
   "metadata": {},
   "source": [
    "# Difficulty : Hard"
   ]
  },
  {
   "cell_type": "code",
   "execution_count": 193,
   "metadata": {},
   "outputs": [
    {
     "data": {
      "text/plain": [
       "array([[ 1.94,  7.96, 11.54,  6.03, 14.32],\n",
       "       [ 4.65,  3.72,  4.62,  8.32, 13.89],\n",
       "       [14.11,  8.61,  9.72,  1.22, 11.9 ]])"
      ]
     },
     "execution_count": 193,
     "metadata": {},
     "output_type": "execute_result"
    }
   ],
   "source": [
    "#Create a 2D array of shape 5x3 to contain decimal numbers between 1 and 15.\n",
    "\n",
    "myarr = np.array([[ 1.94,  7.96, 11.54,  6.03, 14.32],\n",
    "       [ 4.65,  3.72,  4.62,  8.32, 13.89],\n",
    "       [14.11,  8.61,  9.72,  1.22, 11.9 ]])\n",
    "myarr"
   ]
  },
  {
   "cell_type": "code",
   "execution_count": 202,
   "metadata": {},
   "outputs": [
    {
     "data": {
      "text/plain": [
       "array([[[ 1.94,  7.96, 11.54,  6.03],\n",
       "        [14.32,  4.65,  3.72,  4.62]],\n",
       "\n",
       "       [[ 8.32, 13.89, 14.11,  8.61],\n",
       "        [ 9.72,  1.22, 11.9 , 15.87]]])"
      ]
     },
     "execution_count": 202,
     "metadata": {},
     "output_type": "execute_result"
    }
   ],
   "source": [
    "#Create an array of shape (2, 2, 4) with decimal numbers between 1 to 16.\n",
    "\n",
    "#02:\n",
    "myarr3 = np.array([ 1.94,  7.96, 11.54,  6.03, 14.32,  4.65,  3.72,  4.62,  8.32,\n",
    "       13.89, 14.11,  8.61,  9.72,  1.22, 11.9 , 15.87])\n",
    "myarr4 = myarr3.reshape((2,2,4))\n",
    "myarr4"
   ]
  },
  {
   "cell_type": "code",
   "execution_count": 206,
   "metadata": {},
   "outputs": [
    {
     "data": {
      "text/plain": [
       "array([[[ 1.94,  8.32],\n",
       "        [14.32,  9.72]],\n",
       "\n",
       "       [[ 7.96, 13.89],\n",
       "        [ 4.65,  1.22]],\n",
       "\n",
       "       [[11.54, 14.11],\n",
       "        [ 3.72, 11.9 ]],\n",
       "\n",
       "       [[ 6.03,  8.61],\n",
       "        [ 4.62, 15.87]]])"
      ]
     },
     "execution_count": 206,
     "metadata": {},
     "output_type": "execute_result"
    }
   ],
   "source": [
    "#Swap axes of the array you created in Question 32\n",
    "\n",
    "#01:\n",
    "myarr4.transpose()"
   ]
  },
  {
   "cell_type": "code",
   "execution_count": 207,
   "metadata": {},
   "outputs": [
    {
     "data": {
      "text/plain": [
       "array([[[ 1.94,  8.32],\n",
       "        [14.32,  9.72]],\n",
       "\n",
       "       [[ 7.96, 13.89],\n",
       "        [ 4.65,  1.22]],\n",
       "\n",
       "       [[11.54, 14.11],\n",
       "        [ 3.72, 11.9 ]],\n",
       "\n",
       "       [[ 6.03,  8.61],\n",
       "        [ 4.62, 15.87]]])"
      ]
     },
     "execution_count": 207,
     "metadata": {},
     "output_type": "execute_result"
    }
   ],
   "source": [
    "#02:\n",
    "myarr4.T"
   ]
  },
  {
   "cell_type": "code",
   "execution_count": 216,
   "metadata": {},
   "outputs": [
    {
     "name": "stdout",
     "output_type": "stream",
     "text": [
      "[[[ 1.94  7.96 11.54  6.03]\n",
      "  [14.32  4.65  3.72  4.62]]\n",
      "\n",
      " [[ 8.32 13.89 14.11  8.61]\n",
      "  [ 9.72  1.22 11.9  15.87]]] \n",
      "\n",
      "[[[ 1.94  7.96]\n",
      "  [11.54  6.03]\n",
      "  [14.32  4.65]\n",
      "  [ 3.72  4.62]]\n",
      "\n",
      " [[ 8.32 13.89]\n",
      "  [14.11  8.61]\n",
      "  [ 9.72  1.22]\n",
      "  [11.9  15.87]]] \n",
      "\n",
      "[[[ 1.94  7.96]\n",
      "  [11.54  6.03]]\n",
      "\n",
      " [[14.32  4.65]\n",
      "  [ 3.72  4.62]]\n",
      "\n",
      " [[ 8.32 13.89]\n",
      "  [14.11  8.61]]\n",
      "\n",
      " [[ 9.72  1.22]\n",
      "  [11.9  15.87]]]\n"
     ]
    }
   ],
   "source": [
    "#03:\n",
    "print(myarr4, \"\\n\")\n",
    "print(myarr4.reshape((2,4,2)) ,'\\n' )\n",
    "print(myarr4.reshape((4,2,2)))"
   ]
  },
  {
   "cell_type": "code",
   "execution_count": null,
   "metadata": {},
   "outputs": [],
   "source": []
  },
  {
   "cell_type": "code",
   "execution_count": 220,
   "metadata": {},
   "outputs": [
    {
     "name": "stdout",
     "output_type": "stream",
     "text": [
      "10\n"
     ]
    },
    {
     "data": {
      "text/plain": [
       "array([[3.74165739, 0.        , 4.35889894, 1.73205081, 3.74165739],\n",
       "       [3.87298335, 2.44948974, 1.73205081, 3.74165739, 0.        ]])"
      ]
     },
     "execution_count": 220,
     "metadata": {},
     "output_type": "execute_result"
    }
   ],
   "source": [
    "#Create an array of size 10, and find the square root of every element in the array, if the values less than 0.5, replace them with 0\n",
    "myarr5 = np.random.randint(0,20,(2,5))\n",
    "print(myarr5.size)\n",
    "myarr6 = np.sqrt(myarr5)\n",
    "myarr7 = np.where(myarr6<0.5, 0 , myarr6)\n",
    "myarr7"
   ]
  },
  {
   "cell_type": "code",
   "execution_count": 223,
   "metadata": {},
   "outputs": [
    {
     "data": {
      "text/plain": [
       "array([[ 9,  5, 11,  7],\n",
       "       [ 5,  9,  5,  8],\n",
       "       [ 1,  9,  7,  9],\n",
       "       [ 7, 11,  9,  6]])"
      ]
     },
     "execution_count": 223,
     "metadata": {},
     "output_type": "execute_result"
    }
   ],
   "source": [
    "#Create two random arrays of range 12 and make an array with the maximum values between each element of the two arrays\n",
    "\n",
    "myarr8 = np.random.randint(0,12,(4,4))\n",
    "myarr9 = np.random.randint(0,12,(4,4))\n",
    "\n",
    "np.maximum(myarr8,myarr9)\n"
   ]
  },
  {
   "cell_type": "code",
   "execution_count": 231,
   "metadata": {},
   "outputs": [
    {
     "data": {
      "text/plain": [
       "array(['Bob', 'Joe', 'Will'], dtype='<U4')"
      ]
     },
     "execution_count": 231,
     "metadata": {},
     "output_type": "execute_result"
    }
   ],
   "source": [
    "#Find the unique names and sort them out!\n",
    "\n",
    "names = np.array(['Bob', 'Joe', 'Will', 'Bob', 'Will', 'Joe', 'Joe'])\n",
    "\n",
    "ans = np.unique(names)\n",
    "ans.sort()\n",
    "ans"
   ]
  },
  {
   "cell_type": "code",
   "execution_count": 240,
   "metadata": {},
   "outputs": [
    {
     "data": {
      "text/plain": [
       "array({1, 2, 3, 4}, dtype=object)"
      ]
     },
     "execution_count": 240,
     "metadata": {},
     "output_type": "execute_result"
    }
   ],
   "source": [
    "#From array a remove all items present in array b\n",
    "\n",
    "a = np.array([1,2,3,4,5]) \n",
    "b = np.array([5,6,7,8,9])\n",
    "\n",
    "np.array(set(a)-set(b))"
   ]
  },
  {
   "cell_type": "code",
   "execution_count": 327,
   "metadata": {},
   "outputs": [
    {
     "data": {
      "text/plain": [
       "[array([[34, 43, 73],\n",
       "        [82, 22, 12],\n",
       "        [53, 94, 66]]),\n",
       " array([[10, 10, 10],\n",
       "        [10, 10, 10],\n",
       "        [10, 10, 10]])]"
      ]
     },
     "execution_count": 327,
     "metadata": {},
     "output_type": "execute_result"
    }
   ],
   "source": [
    "#Following is the input NumPy array delete column two and insert following new column in its place.\n",
    "sampleArray = np.array([[34,43,73],[82,22,12],[53,94,66]])\n",
    "\n",
    "newColumn = np.array([[10,10,10]])\n"
   ]
  },
  {
   "cell_type": "code",
   "execution_count": 330,
   "metadata": {},
   "outputs": [
    {
     "data": {
      "text/plain": [
       "(1, 3)"
      ]
     },
     "execution_count": 330,
     "metadata": {},
     "output_type": "execute_result"
    }
   ],
   "source": [
    "newColumn.shape"
   ]
  },
  {
   "cell_type": "code",
   "execution_count": 329,
   "metadata": {},
   "outputs": [
    {
     "data": {
      "text/plain": [
       "(3, 2)"
      ]
     },
     "execution_count": 329,
     "metadata": {},
     "output_type": "execute_result"
    }
   ],
   "source": [
    "sampleArray.shape"
   ]
  },
  {
   "cell_type": "code",
   "execution_count": 331,
   "metadata": {},
   "outputs": [
    {
     "name": "stdout",
     "output_type": "stream",
     "text": [
      "(3, 2)\n"
     ]
    },
    {
     "data": {
      "text/plain": [
       "array([[34, 43],\n",
       "       [82, 22],\n",
       "       [53, 94]])"
      ]
     },
     "execution_count": 331,
     "metadata": {},
     "output_type": "execute_result"
    }
   ],
   "source": [
    "sampleArray = sampleArray[:,:2]\n",
    "print(sampleArray.shape)\n",
    "sampleArray "
   ]
  },
  {
   "cell_type": "code",
   "execution_count": 332,
   "metadata": {},
   "outputs": [
    {
     "data": {
      "text/plain": [
       "array([[34, 43, 10],\n",
       "       [82, 22, 10],\n",
       "       [53, 94, 10]])"
      ]
     },
     "execution_count": 332,
     "metadata": {},
     "output_type": "execute_result"
    }
   ],
   "source": [
    "sampleArray = np.concatenate((sampleArray,newColumn.T),axis=1)\n",
    "sampleArray"
   ]
  },
  {
   "cell_type": "code",
   "execution_count": 301,
   "metadata": {},
   "outputs": [
    {
     "data": {
      "text/plain": [
       "array([[ 28.,  64.],\n",
       "       [ 67., 181.]])"
      ]
     },
     "execution_count": 301,
     "metadata": {},
     "output_type": "execute_result"
    }
   ],
   "source": [
    "#Find the dot product of the below two matrix\n",
    "\n",
    "x = np.array([[1., 2., 3.], [4., 5., 6.]]) \n",
    "y = np.array([[6., 23.], [-1, 7], [8, 9]])\n",
    "\n",
    "np.dot(x,y)"
   ]
  },
  {
   "cell_type": "code",
   "execution_count": 304,
   "metadata": {},
   "outputs": [
    {
     "name": "stdout",
     "output_type": "stream",
     "text": [
      "[[ -1  -5  18  -3  17]\n",
      " [  0  -1  -8  14  -1]\n",
      " [-10  17  13  18 -11]\n",
      " [-11 -12  -5  -5  10]]\n"
     ]
    },
    {
     "data": {
      "text/plain": [
       "array([-1, -6, 12,  9, 26, 26, 25, 17, 31, 30, 20, 37, 50, 68, 57, 46, 34,\n",
       "       29, 24, 34], dtype=int32)"
      ]
     },
     "execution_count": 304,
     "metadata": {},
     "output_type": "execute_result"
    }
   ],
   "source": [
    "#Generate a matrix of 20 random values and find its cumulative sum\n",
    "\n",
    "myarr11 = np.random.randint(-20,20,(4,5))\n",
    "print(myarr11)\n",
    "myarr11.cumsum()"
   ]
  },
  {
   "cell_type": "markdown",
   "metadata": {},
   "source": [
    "# The End "
   ]
  }
 ],
 "metadata": {
  "kernelspec": {
   "display_name": "Python 3",
   "language": "python",
   "name": "python3"
  },
  "language_info": {
   "codemirror_mode": {
    "name": "ipython",
    "version": 3
   },
   "file_extension": ".py",
   "mimetype": "text/x-python",
   "name": "python",
   "nbconvert_exporter": "python",
   "pygments_lexer": "ipython3",
   "version": "3.9.1"
  }
 },
 "nbformat": 4,
 "nbformat_minor": 4
}
