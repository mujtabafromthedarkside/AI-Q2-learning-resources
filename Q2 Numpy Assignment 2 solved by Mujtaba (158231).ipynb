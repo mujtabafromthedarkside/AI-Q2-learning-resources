{
 "cells": [
  {
   "cell_type": "code",
   "execution_count": 1,
   "metadata": {},
   "outputs": [],
   "source": [
    "import numpy as np\n"
   ]
  },
  {
   "cell_type": "raw",
   "metadata": {},
   "source": [
    "\n",
    "Question:1\n",
    "Convert a 1D array to a 2D array with 2 rows?\n",
    "Desired output::\n",
    "array([[0, 1, 2, 3, 4], [5, 6, 7, 8, 9]])"
   ]
  },
  {
   "cell_type": "code",
   "execution_count": 2,
   "metadata": {},
   "outputs": [
    {
     "data": {
      "text/plain": [
       "array([[0, 1, 2, 3, 4],\n",
       "       [5, 6, 7, 8, 9]])"
      ]
     },
     "execution_count": 2,
     "metadata": {},
     "output_type": "execute_result"
    }
   ],
   "source": [
    "myarr1 = np.arange(10)\n",
    "myarr2 = myarr1.reshape(2,5)\n",
    "myarr2"
   ]
  },
  {
   "cell_type": "raw",
   "metadata": {},
   "source": [
    "Question:2\n",
    "How to stack two arrays vertically?\n",
    "Desired Output::\n",
    "array([[0, 1, 2, 3, 4], [5, 6, 7, 8, 9], [1, 1, 1, 1, 1], [1, 1, 1, 1, 1]])"
   ]
  },
  {
   "cell_type": "code",
   "execution_count": 4,
   "metadata": {},
   "outputs": [
    {
     "data": {
      "text/plain": [
       "array([[0, 1, 2, 3, 4],\n",
       "       [5, 6, 7, 8, 9],\n",
       "       [1, 1, 1, 1, 1],\n",
       "       [1, 1, 1, 1, 1]])"
      ]
     },
     "execution_count": 4,
     "metadata": {},
     "output_type": "execute_result"
    }
   ],
   "source": [
    "myarr3 = np.array([[0, 1, 2, 3, 4], [5, 6, 7, 8, 9]])\n",
    "myarr4 = np.array([[1, 1, 1, 1, 1], [1, 1, 1, 1, 1]])\n",
    "np.vstack((myarr3,myarr4))"
   ]
  },
  {
   "cell_type": "raw",
   "metadata": {},
   "source": [
    "Question:3\n",
    "How to stack two arrays horizontally?\n",
    "Desired Output::\n",
    "array([[0, 1, 2, 3, 4, 1, 1, 1, 1, 1], [5, 6, 7, 8, 9, 1, 1, 1, 1, 1]])"
   ]
  },
  {
   "cell_type": "code",
   "execution_count": 25,
   "metadata": {},
   "outputs": [
    {
     "data": {
      "text/plain": [
       "array([[0, 1, 2, 3, 4, 1, 1, 1, 1, 1, 5, 6, 7, 8, 9, 1, 1, 1, 1, 1]])"
      ]
     },
     "execution_count": 25,
     "metadata": {},
     "output_type": "execute_result"
    }
   ],
   "source": [
    "myarr5 = np.array([[0, 1, 2, 3, 4, 1, 1, 1, 1, 1]])\n",
    "myarr6 = np.array([[5, 6, 7, 8, 9, 1, 1, 1, 1, 1]])\n",
    "np.hstack((myarr5,myarr6))"
   ]
  },
  {
   "cell_type": "raw",
   "metadata": {},
   "source": [
    "Question:4\n",
    "How to convert an array of arrays into a flat 1d array?¶\n",
    "Desired Output::\n",
    "array([0, 1, 2, 3, 4, 5, 6, 7, 8, 9])"
   ]
  },
  {
   "cell_type": "code",
   "execution_count": 26,
   "metadata": {},
   "outputs": [
    {
     "data": {
      "text/plain": [
       "array([0, 1, 2, 3, 4, 5, 6, 7, 8, 9])"
      ]
     },
     "execution_count": 26,
     "metadata": {},
     "output_type": "execute_result"
    }
   ],
   "source": [
    "myarr7 = np.array([[0, 1],[2, 3], [4, 5],  [6, 7], [8, 9]])\n",
    "myarr8 = myarr7.ravel()\n",
    "myarr8"
   ]
  },
  {
   "cell_type": "raw",
   "metadata": {},
   "source": [
    "Question:5¶\n",
    "How to Convert higher dimension into one dimension?\n",
    "Desired Output::\n",
    "array([ 0, 1, 2, 3, 4, 5, 6, 7, 8, 9, 10, 11, 12, 13, 14])"
   ]
  },
  {
   "cell_type": "code",
   "execution_count": 34,
   "metadata": {},
   "outputs": [
    {
     "data": {
      "text/plain": [
       "array([[[ 0,  1,  2]],\n",
       "\n",
       "       [[ 3,  4,  5]],\n",
       "\n",
       "       [[ 6,  7,  8]],\n",
       "\n",
       "       [[ 9, 10, 11]],\n",
       "\n",
       "       [[12, 13, 14]]])"
      ]
     },
     "execution_count": 34,
     "metadata": {},
     "output_type": "execute_result"
    }
   ],
   "source": [
    "myarr9 = np.array([[[ 0,  1,  2]],\n",
    "\n",
    "       [[ 3,  4,  5]],\n",
    "\n",
    "       [[ 6,  7,  8]],\n",
    "\n",
    "       [[ 9, 10, 11]],\n",
    "\n",
    "       [[12, 13, 14]]])\n",
    "\n",
    "myarr9 "
   ]
  },
  {
   "cell_type": "code",
   "execution_count": 35,
   "metadata": {},
   "outputs": [
    {
     "data": {
      "text/plain": [
       "array([ 0,  1,  2,  3,  4,  5,  6,  7,  8,  9, 10, 11, 12, 13, 14])"
      ]
     },
     "execution_count": 35,
     "metadata": {},
     "output_type": "execute_result"
    }
   ],
   "source": [
    "myarr9 = myarr9.flatten()\n",
    "myarr9"
   ]
  },
  {
   "cell_type": "raw",
   "metadata": {},
   "source": [
    "Question:6\n",
    "Convert one dimension to higher dimension?\n",
    "Desired Output::\n",
    "array([[ 0, 1, 2], [ 3, 4, 5], [ 6, 7, 8], [ 9, 10, 11], [12, 13, 14]])"
   ]
  },
  {
   "cell_type": "code",
   "execution_count": 36,
   "metadata": {},
   "outputs": [
    {
     "data": {
      "text/plain": [
       "array([ 0,  1,  2,  3,  4,  5,  6,  7,  8,  9, 10, 11, 12, 13, 14])"
      ]
     },
     "execution_count": 36,
     "metadata": {},
     "output_type": "execute_result"
    }
   ],
   "source": [
    "myarr11 = np.arange(15)\n",
    "myarr11"
   ]
  },
  {
   "cell_type": "code",
   "execution_count": 39,
   "metadata": {},
   "outputs": [
    {
     "data": {
      "text/plain": [
       "array([[ 0,  1,  2],\n",
       "       [ 3,  4,  5],\n",
       "       [ 6,  7,  8],\n",
       "       [ 9, 10, 11],\n",
       "       [12, 13, 14]])"
      ]
     },
     "execution_count": 39,
     "metadata": {},
     "output_type": "execute_result"
    }
   ],
   "source": [
    "myarr11.reshape((5,3))"
   ]
  },
  {
   "cell_type": "raw",
   "metadata": {},
   "source": [
    "Question:7\n",
    "Create 5x5 an array and find the square of an array?"
   ]
  },
  {
   "cell_type": "code",
   "execution_count": 40,
   "metadata": {},
   "outputs": [
    {
     "data": {
      "text/plain": [
       "array([[ 361,   64, 1089, 1225, 1225],\n",
       "       [ 400,  841, 2025,   64,  361],\n",
       "       [ 361,  289, 1681, 1225,    1],\n",
       "       [1296,   25,  841,  576, 1936],\n",
       "       [1521,  729,  121, 2209,   25]], dtype=int32)"
      ]
     },
     "execution_count": 40,
     "metadata": {},
     "output_type": "execute_result"
    }
   ],
   "source": [
    "myarr12 = np.random.randint(-50,50,(5,5)) \n",
    "myarr12**2"
   ]
  },
  {
   "cell_type": "raw",
   "metadata": {},
   "source": [
    "Question:8\n",
    "Create 5x6 an array and find the mean?"
   ]
  },
  {
   "cell_type": "code",
   "execution_count": 41,
   "metadata": {},
   "outputs": [
    {
     "data": {
      "text/plain": [
       "4.3"
      ]
     },
     "execution_count": 41,
     "metadata": {},
     "output_type": "execute_result"
    }
   ],
   "source": [
    "myarr13 = np.random.randint(-50,50,(5,6))\n",
    "myarr13.mean()"
   ]
  },
  {
   "cell_type": "raw",
   "metadata": {},
   "source": [
    "Question:9\n",
    "Find the standard deviation of the previous array in Q8?"
   ]
  },
  {
   "cell_type": "code",
   "execution_count": 42,
   "metadata": {},
   "outputs": [
    {
     "data": {
      "text/plain": [
       "25.957850450297304"
      ]
     },
     "execution_count": 42,
     "metadata": {},
     "output_type": "execute_result"
    }
   ],
   "source": [
    "myarr13.std()"
   ]
  },
  {
   "cell_type": "raw",
   "metadata": {},
   "source": [
    "Question:10\n",
    "Find the median of the previous array in Q8?"
   ]
  },
  {
   "cell_type": "code",
   "execution_count": 44,
   "metadata": {},
   "outputs": [
    {
     "data": {
      "text/plain": [
       "12.5"
      ]
     },
     "execution_count": 44,
     "metadata": {},
     "output_type": "execute_result"
    }
   ],
   "source": [
    "np.median(myarr13)"
   ]
  },
  {
   "cell_type": "raw",
   "metadata": {},
   "source": [
    "Question:11\n",
    "Find the transpose of the previous array in Q8?"
   ]
  },
  {
   "cell_type": "code",
   "execution_count": 46,
   "metadata": {},
   "outputs": [
    {
     "name": "stdout",
     "output_type": "stream",
     "text": [
      "[[ 23 -14  19  37  19 -24]\n",
      " [ 14  -9  23  26 -37   3]\n",
      " [ 32  -8 -25  29 -41 -33]\n",
      " [-11  22  47 -23   2  27]\n",
      " [-47 -17  19  36  11  29]] \n",
      "\n"
     ]
    },
    {
     "data": {
      "text/plain": [
       "array([[ 23,  14,  32, -11, -47],\n",
       "       [-14,  -9,  -8,  22, -17],\n",
       "       [ 19,  23, -25,  47,  19],\n",
       "       [ 37,  26,  29, -23,  36],\n",
       "       [ 19, -37, -41,   2,  11],\n",
       "       [-24,   3, -33,  27,  29]])"
      ]
     },
     "execution_count": 46,
     "metadata": {},
     "output_type": "execute_result"
    }
   ],
   "source": [
    "print(myarr13,\n",
    "       '\\n')\n",
    "myarr13.T"
   ]
  },
  {
   "cell_type": "raw",
   "metadata": {},
   "source": [
    "Question:12\n",
    "Create a 4x4 an array and find the sum of diagonal elements?"
   ]
  },
  {
   "cell_type": "code",
   "execution_count": 47,
   "metadata": {},
   "outputs": [
    {
     "name": "stdout",
     "output_type": "stream",
     "text": [
      "[[-23  -1 -50 -33]\n",
      " [-33  48 -46  -2]\n",
      " [  3 -25 -21 -18]\n",
      " [-41  42  17 -16]]\n"
     ]
    },
    {
     "data": {
      "text/plain": [
       "-12"
      ]
     },
     "execution_count": 47,
     "metadata": {},
     "output_type": "execute_result"
    }
   ],
   "source": [
    "myarr14 = np.random.randint(-50,50,(4,4))\n",
    "print(myarr14)\n",
    "myarr14.trace()"
   ]
  },
  {
   "cell_type": "raw",
   "metadata": {},
   "source": [
    "Question:13\n",
    "Find the determinant of the previous array in Q12?"
   ]
  },
  {
   "cell_type": "code",
   "execution_count": 49,
   "metadata": {},
   "outputs": [
    {
     "data": {
      "text/plain": [
       "114632.99999999956"
      ]
     },
     "execution_count": 49,
     "metadata": {},
     "output_type": "execute_result"
    }
   ],
   "source": [
    "np.linalg.det(myarr14)"
   ]
  },
  {
   "cell_type": "raw",
   "metadata": {},
   "source": [
    "\n",
    "Question:14\n",
    "Find the 5th and 95th percentile of an array?"
   ]
  },
  {
   "cell_type": "code",
   "execution_count": 55,
   "metadata": {},
   "outputs": [
    {
     "data": {
      "text/plain": [
       "-47.0"
      ]
     },
     "execution_count": 55,
     "metadata": {},
     "output_type": "execute_result"
    }
   ],
   "source": [
    "np.percentile(myarr14,5)  #5th percentile"
   ]
  },
  {
   "cell_type": "code",
   "execution_count": 54,
   "metadata": {},
   "outputs": [
    {
     "data": {
      "text/plain": [
       "43.5"
      ]
     },
     "execution_count": 54,
     "metadata": {},
     "output_type": "execute_result"
    }
   ],
   "source": [
    "np.percentile(myarr14,95)  #95th percentile"
   ]
  },
  {
   "cell_type": "raw",
   "metadata": {},
   "source": [
    "Question:15\n",
    "How to find if a given array has any null values?"
   ]
  },
  {
   "cell_type": "code",
   "execution_count": 58,
   "metadata": {},
   "outputs": [
    {
     "data": {
      "text/plain": [
       "array([[ 0, -4,  0,  2],\n",
       "       [-4,  4,  1, -4],\n",
       "       [ 3, -3,  4,  0],\n",
       "       [-4,  0,  0, -5]])"
      ]
     },
     "execution_count": 58,
     "metadata": {},
     "output_type": "execute_result"
    }
   ],
   "source": [
    "myarr15 = np.random.randint(-5,5,(4,4))\n",
    "myarr15"
   ]
  },
  {
   "cell_type": "code",
   "execution_count": 65,
   "metadata": {},
   "outputs": [
    {
     "data": {
      "text/plain": [
       "True"
      ]
     },
     "execution_count": 65,
     "metadata": {},
     "output_type": "execute_result"
    }
   ],
   "source": [
    "(myarr15==0).any()"
   ]
  }
 ],
 "metadata": {
  "kernelspec": {
   "display_name": "Python 3",
   "language": "python",
   "name": "python3"
  },
  "language_info": {
   "codemirror_mode": {
    "name": "ipython",
    "version": 3
   },
   "file_extension": ".py",
   "mimetype": "text/x-python",
   "name": "python",
   "nbconvert_exporter": "python",
   "pygments_lexer": "ipython3",
   "version": "3.9.1"
  }
 },
 "nbformat": 4,
 "nbformat_minor": 4
}
